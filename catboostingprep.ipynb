{
 "cells": [
  {
   "cell_type": "code",
   "execution_count": null,
   "metadata": {},
   "outputs": [],
   "source": [
    "import pandas as pd\n",
    "import numpy as np\n",
    "import datetime\n",
    "from sklearn.model_selection import train_test_split"
   ]
  },
  {
   "cell_type": "code",
   "execution_count": null,
   "metadata": {},
   "outputs": [],
   "source": [
    "climatedata = pd.read_csv(\"C:/Users/v4run/Downloads/train.csv\")"
   ]
  },
  {
   "cell_type": "code",
   "execution_count": null,
   "metadata": {},
   "outputs": [],
   "source": [
    "climatedata['Year_Factor'] = climatedata['Year_Factor'].astype('category')"
   ]
  },
  {
   "cell_type": "code",
   "execution_count": null,
   "metadata": {},
   "outputs": [],
   "source": [
    "climatedata['year_built'] = climatedata['year_built'].replace(0,np.nan)"
   ]
  },
  {
   "cell_type": "code",
   "execution_count": null,
   "metadata": {},
   "outputs": [],
   "source": [
    "climatedata.dropna(subset={'year_built'},axis=0,inplace=True)"
   ]
  },
  {
   "cell_type": "code",
   "execution_count": null,
   "metadata": {},
   "outputs": [],
   "source": [
    "climatedata['age'] = datetime.date.today().year - climatedata['year_built']"
   ]
  },
  {
   "cell_type": "code",
   "execution_count": null,
   "metadata": {},
   "outputs": [],
   "source": [
    "climatedata.drop(['id','year_built'],axis=1,inplace=True)"
   ]
  },
  {
   "cell_type": "code",
   "execution_count": null,
   "metadata": {},
   "outputs": [],
   "source": [
    "climatedata['age'] = climatedata['age'].astype('int64')"
   ]
  },
  {
   "cell_type": "code",
   "execution_count": null,
   "metadata": {},
   "outputs": [],
   "source": [
    "climatedata['Q1'] = climatedata.loc[:,['january_avg_temp','february_avg_temp','march_avg_temp']].mean(axis=1)\n",
    "climatedata['Q2'] = climatedata.loc[:,['april_avg_temp','may_avg_temp','june_avg_temp']].mean(axis=1)\n",
    "climatedata['Q3'] = climatedata.loc[:,['july_avg_temp','august_avg_temp','september_avg_temp']].mean(axis=1)\n",
    "climatedata['Q4'] = climatedata.loc[:,['october_avg_temp','november_avg_temp','december_avg_temp']].mean(axis=1)"
   ]
  },
  {
   "cell_type": "code",
   "execution_count": null,
   "metadata": {},
   "outputs": [],
   "source": [
    "climatedata.drop(['january_avg_temp','february_avg_temp','march_avg_temp','january_min_temp','february_min_temp','march_min_temp','january_max_temp','february_max_temp','march_max_temp',\n",
    "                    'april_avg_temp','may_avg_temp','june_avg_temp','april_min_temp','may_min_temp','june_min_temp','april_max_temp','may_max_temp','june_max_temp',\n",
    "                    'july_avg_temp','august_avg_temp','september_avg_temp','july_min_temp','august_min_temp','september_min_temp','july_max_temp','august_max_temp','september_max_temp',\n",
    "                    'october_avg_temp','november_avg_temp','december_avg_temp','october_min_temp','november_min_temp','december_min_temp','october_max_temp','november_max_temp','december_max_temp'],axis=1,inplace=True)"
   ]
  },
  {
   "cell_type": "code",
   "execution_count": null,
   "metadata": {},
   "outputs": [],
   "source": [
    "climatedata[['Year_Factor','State_Factor','building_class','facility_type']] = climatedata[['Year_Factor','State_Factor','building_class','facility_type']].astype('category')"
   ]
  },
  {
   "cell_type": "code",
   "execution_count": null,
   "metadata": {},
   "outputs": [],
   "source": [
    "y = climatedata['site_eui'].copy()\n",
    "x = climatedata.drop('site_eui',axis=1).copy()"
   ]
  },
  {
   "cell_type": "code",
   "execution_count": null,
   "metadata": {},
   "outputs": [],
   "source": [
    "x_train, x_test, y_train, y_test = train_test_split(x,y,test_size=0.15,random_state=42)\n",
    "print(len(x_train),'x_train, ',len(x_test),'x_test, ', len(y_train),'y_train, ', len(y_test),'y_test')"
   ]
  },
  {
   "cell_type": "code",
   "execution_count": null,
   "metadata": {},
   "outputs": [],
   "source": [
    "x_train, x_valid, y_train, y_valid = train_test_split(x_train,y_train,test_size=0.15,random_state=42)\n",
    "print(len(x_train),'x_train, ',len(x_test),'x_valid, ', len(y_train),'y_train, ', len(y_test),'y_valid')"
   ]
  }
 ],
 "metadata": {
  "kernelspec": {
   "display_name": "Python 3.9.7 64-bit",
   "language": "python",
   "name": "python3"
  },
  "language_info": {
   "name": "python",
   "version": "3.9.7"
  },
  "orig_nbformat": 4,
  "vscode": {
   "interpreter": {
    "hash": "81794d4967e6c3204c66dcd87b604927b115b27c00565d3d43f05ba2f3a2cb0d"
   }
  }
 },
 "nbformat": 4,
 "nbformat_minor": 2
}
