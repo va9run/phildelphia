{
 "cells": [
  {
   "cell_type": "code",
   "execution_count": 27,
   "metadata": {},
   "outputs": [],
   "source": [
    "import pandas as pd\n",
    "import numpy as np"
   ]
  },
  {
   "cell_type": "code",
   "execution_count": 28,
   "metadata": {},
   "outputs": [],
   "source": [
    "# X data>>>>>>>>>>>>>>>>>>>>>>>>>>>>>>>>>>>>>>>>>>>>>\n",
    "x_train = pd.read_parquet(\"x_train_knn_simple.parquet\")\n",
    "x_valid = pd.read_parquet(\"x_valid_knn_simple.parquet\")\n",
    "x_test = pd.read_parquet(\"x_test_knn_simple.parquet\")\n",
    "\n",
    "# Y data >>>>>>>>>>>>>>>>>>>>>>>>>>>>>>>>>>>>>>>>>>>>\n",
    "y_train = pd.read_parquet(\"scaled_y_train_knn.parquet\")\n",
    "y_valid = pd.read_parquet(\"scaled_y_valid_knn.parquet\")\n",
    "y_test = pd.read_parquet(\"scaled_y_test_knn.parquet\")"
   ]
  },
  {
   "cell_type": "code",
   "execution_count": 29,
   "metadata": {},
   "outputs": [],
   "source": [
    "from time import time\n",
    "from sklearn.linear_model import LinearRegression, Lasso, Ridge, ElasticNet\n",
    "from sklearn.cross_decomposition import PLSRegression\n",
    "from sklearn.neighbors import KNeighborsRegressor\n",
    "from sklearn.ensemble import GradientBoostingRegressor, ExtraTreesRegressor, RandomForestRegressor\n",
    "from sklearn.tree import DecisionTreeRegressor\n",
    "from lightgbm import LGBMRegressor\n",
    "from xgboost import XGBRegressor\n",
    "from sklearn.metrics import mean_absolute_error, r2_score, mean_squared_error, explained_variance_score, mean_absolute_percentage_error\n",
    "from sklearn.svm import SVR\n",
    "import warnings\n",
    "warnings.filterwarnings(\"ignore\")\n",
    "from sklearn.feature_selection import RFECV"
   ]
  },
  {
   "cell_type": "code",
   "execution_count": 30,
   "metadata": {},
   "outputs": [],
   "source": [
    "model = [XGBRegressor(),LGBMRegressor(),DecisionTreeRegressor()]"
   ]
  },
  {
   "cell_type": "code",
   "execution_count": 31,
   "metadata": {},
   "outputs": [],
   "source": [
    "rfecv = RFECV(estimator=XGBRegressor(),min_features_to_select=10,scoring=\"neg_mean_absolute_error\",n_jobs=-1)"
   ]
  },
  {
   "cell_type": "code",
   "execution_count": 32,
   "metadata": {},
   "outputs": [],
   "source": [
    "_ = rfecv.fit(x_train,y_train)"
   ]
  },
  {
   "cell_type": "code",
   "execution_count": 33,
   "metadata": {},
   "outputs": [],
   "source": [
    "xgbmask = rfecv.support_"
   ]
  },
  {
   "cell_type": "code",
   "execution_count": 34,
   "metadata": {},
   "outputs": [],
   "source": [
    "lgrfecv = RFECV(estimator=LGBMRegressor(),min_features_to_select=10,scoring=\"neg_mean_absolute_error\",n_jobs=-1)"
   ]
  },
  {
   "cell_type": "code",
   "execution_count": 35,
   "metadata": {},
   "outputs": [],
   "source": [
    "_ = lgrfecv.fit(x_train,y_train)"
   ]
  },
  {
   "cell_type": "code",
   "execution_count": 36,
   "metadata": {},
   "outputs": [],
   "source": [
    "lgbmask = lgrfecv.support_"
   ]
  },
  {
   "cell_type": "code",
   "execution_count": 37,
   "metadata": {},
   "outputs": [],
   "source": [
    "randrfecv = RFECV(estimator=DecisionTreeRegressor(),min_features_to_select=10,scoring=\"neg_mean_absolute_error\",n_jobs=-1)"
   ]
  },
  {
   "cell_type": "code",
   "execution_count": 38,
   "metadata": {},
   "outputs": [],
   "source": [
    "_ = randrfecv.fit(x_train,y_train)"
   ]
  },
  {
   "cell_type": "code",
   "execution_count": 39,
   "metadata": {},
   "outputs": [],
   "source": [
    "randmask = randrfecv.support_"
   ]
  },
  {
   "cell_type": "code",
   "execution_count": 40,
   "metadata": {},
   "outputs": [],
   "source": [
    "votes = np.sum([xgbmask,lgbmask,randmask],axis=0)"
   ]
  },
  {
   "cell_type": "code",
   "execution_count": 41,
   "metadata": {},
   "outputs": [
    {
     "data": {
      "text/plain": [
       "array([2, 2, 2, 3, 3, 2, 2, 3, 2, 3, 3, 2, 3, 3, 2, 2, 2, 2, 1, 0, 2, 3,\n",
       "       3, 3, 3, 2, 1, 1, 3, 1, 1, 1, 0, 0, 3, 3, 3, 3, 3, 3, 1, 3, 3, 3,\n",
       "       3, 3, 3, 3, 3, 3, 3, 3, 3, 3])"
      ]
     },
     "execution_count": 41,
     "metadata": {},
     "output_type": "execute_result"
    }
   ],
   "source": [
    "votes"
   ]
  },
  {
   "cell_type": "code",
   "execution_count": 42,
   "metadata": {},
   "outputs": [],
   "source": [
    "finalMask = votes==3"
   ]
  },
  {
   "cell_type": "code",
   "execution_count": 43,
   "metadata": {},
   "outputs": [
    {
     "data": {
      "text/plain": [
       "array([False, False, False,  True,  True, False, False,  True, False,\n",
       "        True,  True, False,  True,  True, False, False, False, False,\n",
       "       False, False, False,  True,  True,  True,  True, False, False,\n",
       "       False,  True, False, False, False, False, False,  True,  True,\n",
       "        True,  True,  True,  True, False,  True,  True,  True,  True,\n",
       "        True,  True,  True,  True,  True,  True,  True,  True,  True])"
      ]
     },
     "execution_count": 43,
     "metadata": {},
     "output_type": "execute_result"
    }
   ],
   "source": [
    "finalMask"
   ]
  },
  {
   "cell_type": "code",
   "execution_count": 44,
   "metadata": {},
   "outputs": [
    {
     "data": {
      "text/plain": [
       "(53402, 31)"
      ]
     },
     "execution_count": 44,
     "metadata": {},
     "output_type": "execute_result"
    }
   ],
   "source": [
    "x_train.loc[:,finalMask].shape"
   ]
  },
  {
   "cell_type": "code",
   "execution_count": 45,
   "metadata": {},
   "outputs": [],
   "source": [
    "x_train = x_train.loc[:,finalMask]"
   ]
  },
  {
   "cell_type": "code",
   "execution_count": 46,
   "metadata": {},
   "outputs": [
    {
     "data": {
      "text/plain": [
       "(53402, 31)"
      ]
     },
     "execution_count": 46,
     "metadata": {},
     "output_type": "execute_result"
    }
   ],
   "source": [
    "x_train.shape"
   ]
  },
  {
   "cell_type": "code",
   "execution_count": 47,
   "metadata": {},
   "outputs": [],
   "source": [
    "x_valid = x_valid.loc[:,finalMask]\n",
    "x_test = x_test.loc[:,finalMask]"
   ]
  },
  {
   "cell_type": "code",
   "execution_count": 48,
   "metadata": {},
   "outputs": [
    {
     "data": {
      "text/plain": [
       "(11088, 31)"
      ]
     },
     "execution_count": 48,
     "metadata": {},
     "output_type": "execute_result"
    }
   ],
   "source": [
    "x_test.shape"
   ]
  },
  {
   "cell_type": "code",
   "execution_count": 51,
   "metadata": {},
   "outputs": [
    {
     "data": {
      "text/html": [
       "<div>\n",
       "<style scoped>\n",
       "    .dataframe tbody tr th:only-of-type {\n",
       "        vertical-align: middle;\n",
       "    }\n",
       "\n",
       "    .dataframe tbody tr th {\n",
       "        vertical-align: top;\n",
       "    }\n",
       "\n",
       "    .dataframe thead th {\n",
       "        text-align: right;\n",
       "    }\n",
       "</style>\n",
       "<table border=\"1\" class=\"dataframe\">\n",
       "  <thead>\n",
       "    <tr style=\"text-align: right;\">\n",
       "      <th></th>\n",
       "      <th>floor_area</th>\n",
       "      <th>energy_star_rating</th>\n",
       "      <th>heating_degree_days</th>\n",
       "      <th>snowfall_inches</th>\n",
       "      <th>snowdepth_inches</th>\n",
       "      <th>days_below_30F</th>\n",
       "      <th>days_below_20F</th>\n",
       "      <th>age</th>\n",
       "      <th>Q1</th>\n",
       "      <th>Q2</th>\n",
       "      <th>...</th>\n",
       "      <th>cat__facility_type_Health</th>\n",
       "      <th>cat__facility_type_Industry</th>\n",
       "      <th>cat__facility_type_Lodging</th>\n",
       "      <th>cat__facility_type_Multifamily</th>\n",
       "      <th>cat__facility_type_Office</th>\n",
       "      <th>cat__facility_type_Public_area</th>\n",
       "      <th>cat__facility_type_Public_safety</th>\n",
       "      <th>cat__facility_type_Retail</th>\n",
       "      <th>cat__facility_type_Service</th>\n",
       "      <th>cat__facility_type_Warehouse</th>\n",
       "    </tr>\n",
       "  </thead>\n",
       "  <tbody>\n",
       "    <tr>\n",
       "      <th>0</th>\n",
       "      <td>0.516336</td>\n",
       "      <td>0.570565</td>\n",
       "      <td>-0.220167</td>\n",
       "      <td>0.411490</td>\n",
       "      <td>0.131023</td>\n",
       "      <td>-0.252631</td>\n",
       "      <td>-0.225766</td>\n",
       "      <td>0.725684</td>\n",
       "      <td>0.433672</td>\n",
       "      <td>-0.130958</td>\n",
       "      <td>...</td>\n",
       "      <td>0.0</td>\n",
       "      <td>0.0</td>\n",
       "      <td>0.0</td>\n",
       "      <td>1.0</td>\n",
       "      <td>0.0</td>\n",
       "      <td>0.0</td>\n",
       "      <td>0.0</td>\n",
       "      <td>0.0</td>\n",
       "      <td>0.0</td>\n",
       "      <td>0.0</td>\n",
       "    </tr>\n",
       "    <tr>\n",
       "      <th>1</th>\n",
       "      <td>-0.217012</td>\n",
       "      <td>0.791787</td>\n",
       "      <td>0.664602</td>\n",
       "      <td>1.106299</td>\n",
       "      <td>1.116781</td>\n",
       "      <td>0.637321</td>\n",
       "      <td>0.611933</td>\n",
       "      <td>-0.016611</td>\n",
       "      <td>-0.725460</td>\n",
       "      <td>-0.049377</td>\n",
       "      <td>...</td>\n",
       "      <td>0.0</td>\n",
       "      <td>0.0</td>\n",
       "      <td>0.0</td>\n",
       "      <td>1.0</td>\n",
       "      <td>0.0</td>\n",
       "      <td>0.0</td>\n",
       "      <td>0.0</td>\n",
       "      <td>0.0</td>\n",
       "      <td>0.0</td>\n",
       "      <td>0.0</td>\n",
       "    </tr>\n",
       "    <tr>\n",
       "      <th>2</th>\n",
       "      <td>1.856405</td>\n",
       "      <td>-0.838008</td>\n",
       "      <td>0.361692</td>\n",
       "      <td>0.078679</td>\n",
       "      <td>-0.142157</td>\n",
       "      <td>0.101718</td>\n",
       "      <td>-0.225766</td>\n",
       "      <td>-0.383934</td>\n",
       "      <td>-0.129259</td>\n",
       "      <td>-0.121076</td>\n",
       "      <td>...</td>\n",
       "      <td>0.0</td>\n",
       "      <td>0.0</td>\n",
       "      <td>0.0</td>\n",
       "      <td>1.0</td>\n",
       "      <td>0.0</td>\n",
       "      <td>0.0</td>\n",
       "      <td>0.0</td>\n",
       "      <td>0.0</td>\n",
       "      <td>0.0</td>\n",
       "      <td>0.0</td>\n",
       "    </tr>\n",
       "    <tr>\n",
       "      <th>3</th>\n",
       "      <td>-0.531507</td>\n",
       "      <td>1.703350</td>\n",
       "      <td>-2.089166</td>\n",
       "      <td>-1.775379</td>\n",
       "      <td>-1.651850</td>\n",
       "      <td>-1.032144</td>\n",
       "      <td>-1.716685</td>\n",
       "      <td>0.194060</td>\n",
       "      <td>1.585022</td>\n",
       "      <td>1.893293</td>\n",
       "      <td>...</td>\n",
       "      <td>0.0</td>\n",
       "      <td>0.0</td>\n",
       "      <td>0.0</td>\n",
       "      <td>0.0</td>\n",
       "      <td>0.0</td>\n",
       "      <td>0.0</td>\n",
       "      <td>0.0</td>\n",
       "      <td>0.0</td>\n",
       "      <td>0.0</td>\n",
       "      <td>1.0</td>\n",
       "    </tr>\n",
       "    <tr>\n",
       "      <th>4</th>\n",
       "      <td>0.416354</td>\n",
       "      <td>-0.324436</td>\n",
       "      <td>0.361692</td>\n",
       "      <td>0.078679</td>\n",
       "      <td>-0.142157</td>\n",
       "      <td>0.101718</td>\n",
       "      <td>-0.225766</td>\n",
       "      <td>0.900075</td>\n",
       "      <td>-0.129259</td>\n",
       "      <td>-0.121076</td>\n",
       "      <td>...</td>\n",
       "      <td>0.0</td>\n",
       "      <td>0.0</td>\n",
       "      <td>0.0</td>\n",
       "      <td>1.0</td>\n",
       "      <td>0.0</td>\n",
       "      <td>0.0</td>\n",
       "      <td>0.0</td>\n",
       "      <td>0.0</td>\n",
       "      <td>0.0</td>\n",
       "      <td>0.0</td>\n",
       "    </tr>\n",
       "  </tbody>\n",
       "</table>\n",
       "<p>5 rows × 31 columns</p>\n",
       "</div>"
      ],
      "text/plain": [
       "   floor_area  energy_star_rating  heating_degree_days  snowfall_inches  \\\n",
       "0    0.516336            0.570565            -0.220167         0.411490   \n",
       "1   -0.217012            0.791787             0.664602         1.106299   \n",
       "2    1.856405           -0.838008             0.361692         0.078679   \n",
       "3   -0.531507            1.703350            -2.089166        -1.775379   \n",
       "4    0.416354           -0.324436             0.361692         0.078679   \n",
       "\n",
       "   snowdepth_inches  days_below_30F  days_below_20F       age        Q1  \\\n",
       "0          0.131023       -0.252631       -0.225766  0.725684  0.433672   \n",
       "1          1.116781        0.637321        0.611933 -0.016611 -0.725460   \n",
       "2         -0.142157        0.101718       -0.225766 -0.383934 -0.129259   \n",
       "3         -1.651850       -1.032144       -1.716685  0.194060  1.585022   \n",
       "4         -0.142157        0.101718       -0.225766  0.900075 -0.129259   \n",
       "\n",
       "         Q2  ...  cat__facility_type_Health  cat__facility_type_Industry  \\\n",
       "0 -0.130958  ...                        0.0                          0.0   \n",
       "1 -0.049377  ...                        0.0                          0.0   \n",
       "2 -0.121076  ...                        0.0                          0.0   \n",
       "3  1.893293  ...                        0.0                          0.0   \n",
       "4 -0.121076  ...                        0.0                          0.0   \n",
       "\n",
       "   cat__facility_type_Lodging  cat__facility_type_Multifamily  \\\n",
       "0                         0.0                             1.0   \n",
       "1                         0.0                             1.0   \n",
       "2                         0.0                             1.0   \n",
       "3                         0.0                             0.0   \n",
       "4                         0.0                             1.0   \n",
       "\n",
       "   cat__facility_type_Office  cat__facility_type_Public_area  \\\n",
       "0                        0.0                             0.0   \n",
       "1                        0.0                             0.0   \n",
       "2                        0.0                             0.0   \n",
       "3                        0.0                             0.0   \n",
       "4                        0.0                             0.0   \n",
       "\n",
       "   cat__facility_type_Public_safety  cat__facility_type_Retail  \\\n",
       "0                               0.0                        0.0   \n",
       "1                               0.0                        0.0   \n",
       "2                               0.0                        0.0   \n",
       "3                               0.0                        0.0   \n",
       "4                               0.0                        0.0   \n",
       "\n",
       "   cat__facility_type_Service  cat__facility_type_Warehouse  \n",
       "0                         0.0                           0.0  \n",
       "1                         0.0                           0.0  \n",
       "2                         0.0                           0.0  \n",
       "3                         0.0                           1.0  \n",
       "4                         0.0                           0.0  \n",
       "\n",
       "[5 rows x 31 columns]"
      ]
     },
     "execution_count": 51,
     "metadata": {},
     "output_type": "execute_result"
    }
   ],
   "source": [
    "x_valid.head()"
   ]
  },
  {
   "cell_type": "code",
   "execution_count": 49,
   "metadata": {},
   "outputs": [
    {
     "data": {
      "text/plain": [
       "(11088, 1)"
      ]
     },
     "execution_count": 49,
     "metadata": {},
     "output_type": "execute_result"
    }
   ],
   "source": [
    "y_test.shape"
   ]
  },
  {
   "cell_type": "code",
   "execution_count": 50,
   "metadata": {},
   "outputs": [],
   "source": [
    "x_train.to_parquet('x_train_rfe.parquet')\n",
    "x_valid.to_parquet('x_valid_rfe.parquet')\n",
    "x_test.to_parquet('x_test_rfe.parquet')"
   ]
  },
  {
   "cell_type": "code",
   "execution_count": null,
   "metadata": {},
   "outputs": [],
   "source": []
  }
 ],
 "metadata": {
  "kernelspec": {
   "display_name": "Python 3.9.7 64-bit",
   "language": "python",
   "name": "python3"
  },
  "language_info": {
   "codemirror_mode": {
    "name": "ipython",
    "version": 3
   },
   "file_extension": ".py",
   "mimetype": "text/x-python",
   "name": "python",
   "nbconvert_exporter": "python",
   "pygments_lexer": "ipython3",
   "version": "3.9.7"
  },
  "orig_nbformat": 4,
  "vscode": {
   "interpreter": {
    "hash": "81794d4967e6c3204c66dcd87b604927b115b27c00565d3d43f05ba2f3a2cb0d"
   }
  }
 },
 "nbformat": 4,
 "nbformat_minor": 2
}
